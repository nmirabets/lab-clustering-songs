{
 "cells": [
  {
   "cell_type": "markdown",
   "id": "c564083e-8a64-4306-a6e2-8a708b2a8e54",
   "metadata": {},
   "source": [
    "![logo_ironhack_blue 7](https://user-images.githubusercontent.com/23629340/40541063-a07a0a8a-601a-11e8-91b5-2f13e4e6b441.png)\n",
    "\n",
    "# Lab | Clustering songs\n",
    "\n",
    "## Introduction\n",
    "\n",
    "Now it's time to cluster the songs of the **hot_songs** and **not_hot_songs** databases according to the song's audio features. For this purpose, you need to consider the following questions:\n",
    "\n",
    "* Are you going to use all the audio features? If not, which ones do you think that makes more sense to be used?\n",
    "* What is the optimal number of clusters (for methods that need to know this beforehand)?\n",
    "* What is the best distance to use?\n",
    "* What clustering method provides better results?\n",
    "* Does the clustering method need a transformer?\n",
    "\n",
    "## Considerations\n",
    "\n",
    "Be aware that this process is extremely time-consuming!!! (it might take several hours in your laptop). Therefore, when testing different options, save the models into your disk in order to be able to use the best model later.  You don't want to retrain the best model again when you know what are the optimal parameters for each.\n",
    "To determine which clustering method performs best, you need to be practical and think how many clusters you might want to have alongside with a [clustering metric](https://analyticsindiamag.com/a-tutorial-on-various-clustering-evaluation-metrics/) to evaluate how good or bad the songs were clustered.\n",
    "If the number of clusters is small, each cluster will be too big and generic. On the other hand, if the number of clusters is too big then each cluster it will be too specific and it will be poorly populated (this it also depend on how heterogeneous is your dataset).\n",
    "\n",
    "On the other hand, when you train your clustering model make sure to concatenate both databases together (ie: **hot_songs** and **not_hot_songs**) before. \n",
    "If you don't combine both datasets, the clusters obtained with the **hot_songs** will be different than the ones obtained with the **not_hot_songs**\n",
    "database even though they might have the same label because they will contain different songs. However, after this you will not know to which original\n",
    "dataframe belongs each song. To prevent this problem, you can add a new column named \"dataset\" with a \"flag\" to remind yourself in which dataset was included\n",
    "each song. \n",
    "\n",
    "Finally, add new column to the full dataset **for each clustering method with the cluster membership of each song** "
   ]
  },
  {
   "cell_type": "markdown",
   "id": "4f26e3d6-c36f-4ac1-9cf1-f7cd2225381d",
   "metadata": {},
   "source": [
    "# 0 Import Libraries"
   ]
  },
  {
   "cell_type": "code",
   "execution_count": 1,
   "id": "1081ab67-ace3-42a7-8724-566acb15df7d",
   "metadata": {},
   "outputs": [],
   "source": [
    "%matplotlib inline\n",
    "import matplotlib.pyplot as plt\n",
    "import pandas as pd\n",
    "import numpy as np\n",
    "import pickle\n",
    "from sklearn.preprocessing import StandardScaler\n",
    "from sklearn.cluster import KMeans\n",
    "from sklearn.metrics import silhouette_score\n",
    "from sklearn.cluster import DBSCAN\n",
    "from sklearn.mixture import GaussianMixture\n",
    "from scipy.spatial import distance_matrix\n",
    "\n",
    "import my_functions # import custom functions"
   ]
  },
  {
   "cell_type": "markdown",
   "id": "f099c1c1-d9bb-48fa-abcb-8cfce35245a4",
   "metadata": {},
   "source": [
    "# 1 Load Dataset"
   ]
  },
  {
   "cell_type": "code",
   "execution_count": 2,
   "id": "125edfb8-95fb-4284-9a0f-d7e359b28493",
   "metadata": {},
   "outputs": [],
   "source": [
    "# Load clean df\n",
    "df = pd.read_csv(\"clean_songs_and_features.csv\", sep = \";\")"
   ]
  },
  {
   "cell_type": "markdown",
   "id": "3ece9ce0-316f-4791-9802-1ade2e815e66",
   "metadata": {},
   "source": [
    "# 2 Select Features\n",
    "The features will be selected based on the feature descriptions provided by Spotify: [Description of Audio Features](https://developer.spotify.com/documentation/web-api/reference/#/operations/get-several-audio-features)"
   ]
  },
  {
   "cell_type": "code",
   "execution_count": 3,
   "id": "2f4487b2-5b4e-4b70-b265-da81c260f607",
   "metadata": {},
   "outputs": [
    {
     "name": "stdout",
     "output_type": "stream",
     "text": [
      "Index(['track_id', 'href', 'track_link', 'track_name', 'artist', 'album_name',\n",
      "       'album_release_year', 'track_duration', 'album_image', 'popularity',\n",
      "       'is_hot', 'acousticness', 'danceability', 'energy', 'instrumentalness',\n",
      "       'key', 'liveness', 'loudness', 'mode', 'speechiness', 'tempo',\n",
      "       'time_signature', 'valence'],\n",
      "      dtype='object')\n"
     ]
    },
    {
     "data": {
      "text/html": [
       "<div>\n",
       "<style scoped>\n",
       "    .dataframe tbody tr th:only-of-type {\n",
       "        vertical-align: middle;\n",
       "    }\n",
       "\n",
       "    .dataframe tbody tr th {\n",
       "        vertical-align: top;\n",
       "    }\n",
       "\n",
       "    .dataframe thead th {\n",
       "        text-align: right;\n",
       "    }\n",
       "</style>\n",
       "<table border=\"1\" class=\"dataframe\">\n",
       "  <thead>\n",
       "    <tr style=\"text-align: right;\">\n",
       "      <th></th>\n",
       "      <th>track_duration</th>\n",
       "      <th>popularity</th>\n",
       "      <th>acousticness</th>\n",
       "      <th>danceability</th>\n",
       "      <th>energy</th>\n",
       "      <th>instrumentalness</th>\n",
       "      <th>key</th>\n",
       "      <th>liveness</th>\n",
       "      <th>loudness</th>\n",
       "      <th>mode</th>\n",
       "      <th>speechiness</th>\n",
       "      <th>tempo</th>\n",
       "      <th>time_signature</th>\n",
       "      <th>valence</th>\n",
       "    </tr>\n",
       "  </thead>\n",
       "  <tbody>\n",
       "    <tr>\n",
       "      <th>count</th>\n",
       "      <td>5688.000000</td>\n",
       "      <td>5688.000000</td>\n",
       "      <td>5688.000000</td>\n",
       "      <td>5688.000000</td>\n",
       "      <td>5688.000000</td>\n",
       "      <td>5688.000000</td>\n",
       "      <td>5688.000000</td>\n",
       "      <td>5688.000000</td>\n",
       "      <td>5688.000000</td>\n",
       "      <td>5688.000000</td>\n",
       "      <td>5688.000000</td>\n",
       "      <td>5688.000000</td>\n",
       "      <td>5688.000000</td>\n",
       "      <td>5688.000000</td>\n",
       "    </tr>\n",
       "    <tr>\n",
       "      <th>mean</th>\n",
       "      <td>235.128868</td>\n",
       "      <td>16.013889</td>\n",
       "      <td>0.336697</td>\n",
       "      <td>0.544898</td>\n",
       "      <td>0.597838</td>\n",
       "      <td>0.181144</td>\n",
       "      <td>5.320675</td>\n",
       "      <td>0.217516</td>\n",
       "      <td>-9.713202</td>\n",
       "      <td>0.692511</td>\n",
       "      <td>0.091445</td>\n",
       "      <td>120.329165</td>\n",
       "      <td>3.884318</td>\n",
       "      <td>0.523748</td>\n",
       "    </tr>\n",
       "    <tr>\n",
       "      <th>std</th>\n",
       "      <td>103.828109</td>\n",
       "      <td>18.986061</td>\n",
       "      <td>0.343060</td>\n",
       "      <td>0.183331</td>\n",
       "      <td>0.260714</td>\n",
       "      <td>0.319049</td>\n",
       "      <td>3.545110</td>\n",
       "      <td>0.196191</td>\n",
       "      <td>5.016325</td>\n",
       "      <td>0.461494</td>\n",
       "      <td>0.122881</td>\n",
       "      <td>30.568079</td>\n",
       "      <td>0.438975</td>\n",
       "      <td>0.265859</td>\n",
       "    </tr>\n",
       "    <tr>\n",
       "      <th>min</th>\n",
       "      <td>7.000000</td>\n",
       "      <td>0.000000</td>\n",
       "      <td>0.000001</td>\n",
       "      <td>0.000000</td>\n",
       "      <td>0.000020</td>\n",
       "      <td>0.000000</td>\n",
       "      <td>0.000000</td>\n",
       "      <td>0.000000</td>\n",
       "      <td>-54.909000</td>\n",
       "      <td>0.000000</td>\n",
       "      <td>0.000000</td>\n",
       "      <td>0.000000</td>\n",
       "      <td>0.000000</td>\n",
       "      <td>0.000000</td>\n",
       "    </tr>\n",
       "    <tr>\n",
       "      <th>25%</th>\n",
       "      <td>177.000000</td>\n",
       "      <td>1.000000</td>\n",
       "      <td>0.018075</td>\n",
       "      <td>0.416000</td>\n",
       "      <td>0.399000</td>\n",
       "      <td>0.000001</td>\n",
       "      <td>2.000000</td>\n",
       "      <td>0.095600</td>\n",
       "      <td>-12.294500</td>\n",
       "      <td>0.000000</td>\n",
       "      <td>0.034800</td>\n",
       "      <td>96.130000</td>\n",
       "      <td>4.000000</td>\n",
       "      <td>0.313000</td>\n",
       "    </tr>\n",
       "    <tr>\n",
       "      <th>50%</th>\n",
       "      <td>223.000000</td>\n",
       "      <td>9.000000</td>\n",
       "      <td>0.198000</td>\n",
       "      <td>0.555500</td>\n",
       "      <td>0.627000</td>\n",
       "      <td>0.000376</td>\n",
       "      <td>5.000000</td>\n",
       "      <td>0.134000</td>\n",
       "      <td>-8.684000</td>\n",
       "      <td>1.000000</td>\n",
       "      <td>0.047200</td>\n",
       "      <td>118.994500</td>\n",
       "      <td>4.000000</td>\n",
       "      <td>0.533000</td>\n",
       "    </tr>\n",
       "    <tr>\n",
       "      <th>75%</th>\n",
       "      <td>273.000000</td>\n",
       "      <td>24.000000</td>\n",
       "      <td>0.652000</td>\n",
       "      <td>0.683250</td>\n",
       "      <td>0.821000</td>\n",
       "      <td>0.186250</td>\n",
       "      <td>9.000000</td>\n",
       "      <td>0.282000</td>\n",
       "      <td>-6.151000</td>\n",
       "      <td>1.000000</td>\n",
       "      <td>0.086900</td>\n",
       "      <td>139.482000</td>\n",
       "      <td>4.000000</td>\n",
       "      <td>0.748000</td>\n",
       "    </tr>\n",
       "    <tr>\n",
       "      <th>max</th>\n",
       "      <td>1610.000000</td>\n",
       "      <td>100.000000</td>\n",
       "      <td>0.996000</td>\n",
       "      <td>0.984000</td>\n",
       "      <td>1.000000</td>\n",
       "      <td>0.993000</td>\n",
       "      <td>11.000000</td>\n",
       "      <td>0.997000</td>\n",
       "      <td>0.316000</td>\n",
       "      <td>1.000000</td>\n",
       "      <td>0.956000</td>\n",
       "      <td>245.941000</td>\n",
       "      <td>5.000000</td>\n",
       "      <td>0.991000</td>\n",
       "    </tr>\n",
       "  </tbody>\n",
       "</table>\n",
       "</div>"
      ],
      "text/plain": [
       "       track_duration   popularity  acousticness  danceability       energy  \\\n",
       "count     5688.000000  5688.000000   5688.000000   5688.000000  5688.000000   \n",
       "mean       235.128868    16.013889      0.336697      0.544898     0.597838   \n",
       "std        103.828109    18.986061      0.343060      0.183331     0.260714   \n",
       "min          7.000000     0.000000      0.000001      0.000000     0.000020   \n",
       "25%        177.000000     1.000000      0.018075      0.416000     0.399000   \n",
       "50%        223.000000     9.000000      0.198000      0.555500     0.627000   \n",
       "75%        273.000000    24.000000      0.652000      0.683250     0.821000   \n",
       "max       1610.000000   100.000000      0.996000      0.984000     1.000000   \n",
       "\n",
       "       instrumentalness          key     liveness     loudness         mode  \\\n",
       "count       5688.000000  5688.000000  5688.000000  5688.000000  5688.000000   \n",
       "mean           0.181144     5.320675     0.217516    -9.713202     0.692511   \n",
       "std            0.319049     3.545110     0.196191     5.016325     0.461494   \n",
       "min            0.000000     0.000000     0.000000   -54.909000     0.000000   \n",
       "25%            0.000001     2.000000     0.095600   -12.294500     0.000000   \n",
       "50%            0.000376     5.000000     0.134000    -8.684000     1.000000   \n",
       "75%            0.186250     9.000000     0.282000    -6.151000     1.000000   \n",
       "max            0.993000    11.000000     0.997000     0.316000     1.000000   \n",
       "\n",
       "       speechiness        tempo  time_signature      valence  \n",
       "count  5688.000000  5688.000000     5688.000000  5688.000000  \n",
       "mean      0.091445   120.329165        3.884318     0.523748  \n",
       "std       0.122881    30.568079        0.438975     0.265859  \n",
       "min       0.000000     0.000000        0.000000     0.000000  \n",
       "25%       0.034800    96.130000        4.000000     0.313000  \n",
       "50%       0.047200   118.994500        4.000000     0.533000  \n",
       "75%       0.086900   139.482000        4.000000     0.748000  \n",
       "max       0.956000   245.941000        5.000000     0.991000  "
      ]
     },
     "metadata": {},
     "output_type": "display_data"
    }
   ],
   "source": [
    "# Show Columns\n",
    "print(df.keys())\n",
    "\n",
    "# Show Description\n",
    "display(df.describe())"
   ]
  },
  {
   "cell_type": "code",
   "execution_count": 4,
   "id": "f97e1bcd-6325-4a72-86d0-aeaaf15f8c41",
   "metadata": {},
   "outputs": [],
   "source": [
    "# list of selected features\n",
    "selected_features = ['energy','danceability','mode', 'speechiness', 'tempo', 'acousticness', 'instrumentalness', 'valence']\n",
    "\n",
    "# Create X df with selected features\n",
    "X = df[selected_features]"
   ]
  },
  {
   "cell_type": "markdown",
   "id": "3f4876da-b358-4e58-a4d8-3ed51e585b7c",
   "metadata": {},
   "source": [
    "# 3 Scale Dataset"
   ]
  },
  {
   "cell_type": "code",
   "execution_count": 5,
   "id": "571cc60e-c43f-4c13-9363-cfc3ae8f0ba6",
   "metadata": {},
   "outputs": [
    {
     "data": {
      "text/html": [
       "<div>\n",
       "<style scoped>\n",
       "    .dataframe tbody tr th:only-of-type {\n",
       "        vertical-align: middle;\n",
       "    }\n",
       "\n",
       "    .dataframe tbody tr th {\n",
       "        vertical-align: top;\n",
       "    }\n",
       "\n",
       "    .dataframe thead th {\n",
       "        text-align: right;\n",
       "    }\n",
       "</style>\n",
       "<table border=\"1\" class=\"dataframe\">\n",
       "  <thead>\n",
       "    <tr style=\"text-align: right;\">\n",
       "      <th></th>\n",
       "      <th>energy</th>\n",
       "      <th>danceability</th>\n",
       "      <th>mode</th>\n",
       "      <th>speechiness</th>\n",
       "      <th>tempo</th>\n",
       "      <th>acousticness</th>\n",
       "      <th>instrumentalness</th>\n",
       "      <th>valence</th>\n",
       "    </tr>\n",
       "  </thead>\n",
       "  <tbody>\n",
       "    <tr>\n",
       "      <th>count</th>\n",
       "      <td>5.688000e+03</td>\n",
       "      <td>5.688000e+03</td>\n",
       "      <td>5.688000e+03</td>\n",
       "      <td>5.688000e+03</td>\n",
       "      <td>5.688000e+03</td>\n",
       "      <td>5.688000e+03</td>\n",
       "      <td>5.688000e+03</td>\n",
       "      <td>5.688000e+03</td>\n",
       "    </tr>\n",
       "    <tr>\n",
       "      <th>mean</th>\n",
       "      <td>-1.736383e-16</td>\n",
       "      <td>5.633874e-16</td>\n",
       "      <td>9.743729e-17</td>\n",
       "      <td>-2.373473e-17</td>\n",
       "      <td>1.973730e-16</td>\n",
       "      <td>8.869292e-17</td>\n",
       "      <td>3.122990e-19</td>\n",
       "      <td>-1.411592e-16</td>\n",
       "    </tr>\n",
       "    <tr>\n",
       "      <th>std</th>\n",
       "      <td>1.000088e+00</td>\n",
       "      <td>1.000088e+00</td>\n",
       "      <td>1.000088e+00</td>\n",
       "      <td>1.000088e+00</td>\n",
       "      <td>1.000088e+00</td>\n",
       "      <td>1.000088e+00</td>\n",
       "      <td>1.000088e+00</td>\n",
       "      <td>1.000088e+00</td>\n",
       "    </tr>\n",
       "    <tr>\n",
       "      <th>min</th>\n",
       "      <td>-2.293209e+00</td>\n",
       "      <td>-2.972468e+00</td>\n",
       "      <td>-1.500715e+00</td>\n",
       "      <td>-7.442419e-01</td>\n",
       "      <td>-3.936778e+00</td>\n",
       "      <td>-9.815349e-01</td>\n",
       "      <td>-5.678122e-01</td>\n",
       "      <td>-1.970193e+00</td>\n",
       "    </tr>\n",
       "    <tr>\n",
       "      <th>25%</th>\n",
       "      <td>-7.627369e-01</td>\n",
       "      <td>-7.031489e-01</td>\n",
       "      <td>-1.500715e+00</td>\n",
       "      <td>-4.610171e-01</td>\n",
       "      <td>-7.917178e-01</td>\n",
       "      <td>-9.288460e-01</td>\n",
       "      <td>-5.678091e-01</td>\n",
       "      <td>-7.927742e-01</td>\n",
       "    </tr>\n",
       "    <tr>\n",
       "      <th>50%</th>\n",
       "      <td>1.118631e-01</td>\n",
       "      <td>5.783666e-02</td>\n",
       "      <td>6.663493e-01</td>\n",
       "      <td>-3.600979e-01</td>\n",
       "      <td>-4.366589e-02</td>\n",
       "      <td>-4.043283e-01</td>\n",
       "      <td>-5.666336e-01</td>\n",
       "      <td>3.480465e-02</td>\n",
       "    </tr>\n",
       "    <tr>\n",
       "      <th>75%</th>\n",
       "      <td>8.560402e-01</td>\n",
       "      <td>7.547249e-01</td>\n",
       "      <td>6.663493e-01</td>\n",
       "      <td>-3.699377e-02</td>\n",
       "      <td>6.266183e-01</td>\n",
       "      <td>9.191733e-01</td>\n",
       "      <td>1.600474e-02</td>\n",
       "      <td>8.435748e-01</td>\n",
       "    </tr>\n",
       "    <tr>\n",
       "      <th>max</th>\n",
       "      <td>1.542678e+00</td>\n",
       "      <td>2.395344e+00</td>\n",
       "      <td>6.663493e-01</td>\n",
       "      <td>7.036301e+00</td>\n",
       "      <td>4.109610e+00</td>\n",
       "      <td>1.922003e+00</td>\n",
       "      <td>2.544833e+00</td>\n",
       "      <td>1.757673e+00</td>\n",
       "    </tr>\n",
       "  </tbody>\n",
       "</table>\n",
       "</div>"
      ],
      "text/plain": [
       "             energy  danceability          mode   speechiness         tempo  \\\n",
       "count  5.688000e+03  5.688000e+03  5.688000e+03  5.688000e+03  5.688000e+03   \n",
       "mean  -1.736383e-16  5.633874e-16  9.743729e-17 -2.373473e-17  1.973730e-16   \n",
       "std    1.000088e+00  1.000088e+00  1.000088e+00  1.000088e+00  1.000088e+00   \n",
       "min   -2.293209e+00 -2.972468e+00 -1.500715e+00 -7.442419e-01 -3.936778e+00   \n",
       "25%   -7.627369e-01 -7.031489e-01 -1.500715e+00 -4.610171e-01 -7.917178e-01   \n",
       "50%    1.118631e-01  5.783666e-02  6.663493e-01 -3.600979e-01 -4.366589e-02   \n",
       "75%    8.560402e-01  7.547249e-01  6.663493e-01 -3.699377e-02  6.266183e-01   \n",
       "max    1.542678e+00  2.395344e+00  6.663493e-01  7.036301e+00  4.109610e+00   \n",
       "\n",
       "       acousticness  instrumentalness       valence  \n",
       "count  5.688000e+03      5.688000e+03  5.688000e+03  \n",
       "mean   8.869292e-17      3.122990e-19 -1.411592e-16  \n",
       "std    1.000088e+00      1.000088e+00  1.000088e+00  \n",
       "min   -9.815349e-01     -5.678122e-01 -1.970193e+00  \n",
       "25%   -9.288460e-01     -5.678091e-01 -7.927742e-01  \n",
       "50%   -4.043283e-01     -5.666336e-01  3.480465e-02  \n",
       "75%    9.191733e-01      1.600474e-02  8.435748e-01  \n",
       "max    1.922003e+00      2.544833e+00  1.757673e+00  "
      ]
     },
     "metadata": {},
     "output_type": "display_data"
    }
   ],
   "source": [
    "# Select scaler\n",
    "scaler = StandardScaler()\n",
    "\n",
    "# Fit scaler\n",
    "scaler.fit(X)\n",
    "\n",
    "# Transform dataset\n",
    "X_scaled = scaler.transform(X)\n",
    "\n",
    "# Save scaler\n",
    "file_name = \"scaler.pkl\" # Path with filename\n",
    "my_functions.save_pickle_file('./scalers/', file_name, scaler)\n",
    "\n",
    "# Convert numpy array into pandas dataframe\n",
    "X_scaled_df = pd.DataFrame(X_scaled, columns = X.columns)\n",
    "\n",
    "# Show transformed df\n",
    "display(X_scaled_df.describe())"
   ]
  },
  {
   "cell_type": "markdown",
   "id": "8a5086b2-e8cd-4aae-9331-acd84b4f2c71",
   "metadata": {},
   "source": [
    "# 4 K-Means Model"
   ]
  },
  {
   "cell_type": "markdown",
   "id": "108079bf-5487-4581-85e7-457ef9085f02",
   "metadata": {},
   "source": [
    "## Model Training and Selection (based on K)"
   ]
  },
  {
   "cell_type": "code",
   "execution_count": 6,
   "id": "6f6f99f2-f05b-4c09-a140-922556ac2a18",
   "metadata": {},
   "outputs": [
    {
     "data": {
      "text/plain": [
       "Text(0.5, 1.0, 'Silhouette Method showing the optimal k')"
      ]
     },
     "execution_count": 6,
     "metadata": {},
     "output_type": "execute_result"
    },
    {
     "data": {
      "image/png": "[encoded data removed]",
      "text/plain": [
       "<Figure size 1600x800 with 2 Axes>"
      ]
     },
     "metadata": {},
     "output_type": "display_data"
    }
   ],
   "source": [
    "# Choose range of Ks to study\n",
    "K = range(2, 30)\n",
    "\n",
    "inertia = []\n",
    "silhouette = []\n",
    "\n",
    "for k in K:\n",
    "\n",
    "    kmeans = KMeans(n_init='auto',\n",
    "                    n_clusters=k,\n",
    "                    random_state=1234,\n",
    "                    #verbose=1\n",
    "                   )\n",
    "    kmeans.fit(X_scaled_df)\n",
    "    \n",
    "    # Save model\n",
    "    file_name = 'kmeans_{}.pkl'.format(str(k))\n",
    "    my_functions.save_pickle_file('./models/', file_name, kmeans)\n",
    "\n",
    "    inertia.append(kmeans.inertia_)\n",
    "    silhouette.append(silhouette_score(X_scaled_df, kmeans.predict(X_scaled_df)))\n",
    "\n",
    "fig, ax = plt.subplots(1,2,figsize=(16,8))\n",
    "ax[0].plot(K, inertia, 'bx-')\n",
    "ax[0].set_xlabel('k')\n",
    "ax[0].set_ylabel('inertia')\n",
    "ax[0].set_xticks(np.arange(min(K), max(K)+1, 1.0))\n",
    "ax[0].set_title('Elbow Method showing the optimal k')\n",
    "ax[1].plot(K, silhouette, 'bx-')\n",
    "ax[1].set_xlabel('k')\n",
    "ax[1].set_ylabel('silhouette score')\n",
    "ax[1].set_xticks(np.arange(min(K), max(K)+1, 1.0))\n",
    "ax[1].set_title('Silhouette Method showing the optimal k')"
   ]
  },
  {
   "cell_type": "markdown",
   "id": "06d29a22-06b6-4ace-a204-b2e0937034fa",
   "metadata": {},
   "source": [
    "+ The two best models found were with:\n",
    "    + K = 9\n",
    "    + K = 27"
   ]
  },
  {
   "cell_type": "code",
   "execution_count": 7,
   "id": "db1e45b5-a16e-452c-a784-af33a8330bcd",
   "metadata": {},
   "outputs": [],
   "source": [
    "# Define the selected Ks\n",
    "selected_ks = [9, 27]\n",
    "\n",
    "# Create a copy of scaled df to add clusters\n",
    "songs_and_features_kmeans_clustered_df = df.copy()\n",
    "\n",
    "for k in selected_ks:\n",
    "    model = my_functions.read_pickle_file('./models/kmeans_{}.pkl'.format(str(k))) # Load model\n",
    "    \n",
    "    clusters = model.predict(X_scaled_df[selected_features]) # Predict clusters\n",
    "    \n",
    "    songs_and_features_kmeans_clustered_df['clusters_kmeans_{}'.format(str(k))] = clusters # Add clusters to clustered df\n",
    "\n",
    "# Save clustered df as csv\n",
    "songs_and_features_kmeans_clustered_df.to_csv('songs_and_features_kmeans_clustered.csv',index = False, sep=\";\")                 "
   ]
  },
  {
   "cell_type": "code",
   "execution_count": 10,
   "id": "e4509f8e-9d2f-4d8f-8fef-0be0a06b3b65",
   "metadata": {},
   "outputs": [
    {
     "data": {
      "text/html": [
       "<div>\n",
       "<style scoped>\n",
       "    .dataframe tbody tr th:only-of-type {\n",
       "        vertical-align: middle;\n",
       "    }\n",
       "\n",
       "    .dataframe tbody tr th {\n",
       "        vertical-align: top;\n",
       "    }\n",
       "\n",
       "    .dataframe thead th {\n",
       "        text-align: right;\n",
       "    }\n",
       "</style>\n",
       "<table border=\"1\" class=\"dataframe\">\n",
       "  <thead>\n",
       "    <tr style=\"text-align: right;\">\n",
       "      <th></th>\n",
       "      <th>track_id</th>\n",
       "      <th>href</th>\n",
       "      <th>track_link</th>\n",
       "      <th>track_name</th>\n",
       "      <th>artist</th>\n",
       "      <th>album_name</th>\n",
       "      <th>album_release_year</th>\n",
       "      <th>track_duration</th>\n",
       "      <th>album_image</th>\n",
       "      <th>popularity</th>\n",
       "      <th>...</th>\n",
       "      <th>key</th>\n",
       "      <th>liveness</th>\n",
       "      <th>loudness</th>\n",
       "      <th>mode</th>\n",
       "      <th>speechiness</th>\n",
       "      <th>tempo</th>\n",
       "      <th>time_signature</th>\n",
       "      <th>valence</th>\n",
       "      <th>clusters_kmeans_9</th>\n",
       "      <th>clusters_kmeans_27</th>\n",
       "    </tr>\n",
       "  </thead>\n",
       "  <tbody>\n",
       "    <tr>\n",
       "      <th>0</th>\n",
       "      <td>3T7XFffEVFl76njTFOKSsL</td>\n",
       "      <td>https://api.spotify.com/v1/tracks/3T7XFffEVFl7...</td>\n",
       "      <td>https://open.spotify.com/track/3T7XFffEVFl76nj...</td>\n",
       "      <td>Martha Served</td>\n",
       "      <td>I Hate Sally</td>\n",
       "      <td>Don't Worry Lady</td>\n",
       "      <td>2007-06-12</td>\n",
       "      <td>139</td>\n",
       "      <td>https://i.scdn.co/image/ab67616d00001e0201a7d2...</td>\n",
       "      <td>2</td>\n",
       "      <td>...</td>\n",
       "      <td>1</td>\n",
       "      <td>0.818</td>\n",
       "      <td>-5.382</td>\n",
       "      <td>1</td>\n",
       "      <td>0.1110</td>\n",
       "      <td>103.886</td>\n",
       "      <td>4</td>\n",
       "      <td>0.2020</td>\n",
       "      <td>6</td>\n",
       "      <td>22</td>\n",
       "    </tr>\n",
       "    <tr>\n",
       "      <th>1</th>\n",
       "      <td>5VKlSohlApanCSQ1YHA1xq</td>\n",
       "      <td>https://api.spotify.com/v1/tracks/5VKlSohlApan...</td>\n",
       "      <td>https://open.spotify.com/track/5VKlSohlApanCSQ...</td>\n",
       "      <td>Zip-A-Dee-Doo-Dah (Song of the South)</td>\n",
       "      <td>101 Strings Orchestra</td>\n",
       "      <td>Most Amazing Movie, Musical &amp; TV Themes, Vol.6</td>\n",
       "      <td>2022-10-07</td>\n",
       "      <td>200</td>\n",
       "      <td>https://i.scdn.co/image/ab67616d00001e0234180b...</td>\n",
       "      <td>1</td>\n",
       "      <td>...</td>\n",
       "      <td>10</td>\n",
       "      <td>0.122</td>\n",
       "      <td>-16.292</td>\n",
       "      <td>1</td>\n",
       "      <td>0.0373</td>\n",
       "      <td>119.205</td>\n",
       "      <td>4</td>\n",
       "      <td>0.2770</td>\n",
       "      <td>7</td>\n",
       "      <td>24</td>\n",
       "    </tr>\n",
       "    <tr>\n",
       "      <th>2</th>\n",
       "      <td>7d3iTe7NNJzt4sviLqQmgb</td>\n",
       "      <td>https://api.spotify.com/v1/tracks/7d3iTe7NNJzt...</td>\n",
       "      <td>https://open.spotify.com/track/7d3iTe7NNJzt4sv...</td>\n",
       "      <td>Misery Path - From the Privilege of Evil</td>\n",
       "      <td>Amorphis</td>\n",
       "      <td>Karelian Isthmus</td>\n",
       "      <td>1992-11-01</td>\n",
       "      <td>255</td>\n",
       "      <td>https://i.scdn.co/image/ab67616d00001e0255f6d7...</td>\n",
       "      <td>11</td>\n",
       "      <td>...</td>\n",
       "      <td>9</td>\n",
       "      <td>0.415</td>\n",
       "      <td>-4.797</td>\n",
       "      <td>1</td>\n",
       "      <td>0.2370</td>\n",
       "      <td>79.823</td>\n",
       "      <td>4</td>\n",
       "      <td>0.0397</td>\n",
       "      <td>6</td>\n",
       "      <td>22</td>\n",
       "    </tr>\n",
       "    <tr>\n",
       "      <th>3</th>\n",
       "      <td>0OsqzEdkrKIz4cMMdFtrvJ</td>\n",
       "      <td>https://api.spotify.com/v1/tracks/0OsqzEdkrKIz...</td>\n",
       "      <td>https://open.spotify.com/track/0OsqzEdkrKIz4cM...</td>\n",
       "      <td>Nuovi Re, Pt. I I (feat. Tek Money - Lady Tamb...</td>\n",
       "      <td>Inoki</td>\n",
       "      <td>Nobiltà di strada</td>\n",
       "      <td>2007-02-16</td>\n",
       "      <td>259</td>\n",
       "      <td>https://i.scdn.co/image/ab67616d00001e022d85b5...</td>\n",
       "      <td>11</td>\n",
       "      <td>...</td>\n",
       "      <td>1</td>\n",
       "      <td>0.623</td>\n",
       "      <td>-4.925</td>\n",
       "      <td>1</td>\n",
       "      <td>0.2810</td>\n",
       "      <td>87.954</td>\n",
       "      <td>4</td>\n",
       "      <td>0.7550</td>\n",
       "      <td>1</td>\n",
       "      <td>26</td>\n",
       "    </tr>\n",
       "    <tr>\n",
       "      <th>4</th>\n",
       "      <td>4QL6epCx6rlUbDG4TF3sj9</td>\n",
       "      <td>https://api.spotify.com/v1/tracks/4QL6epCx6rlU...</td>\n",
       "      <td>https://open.spotify.com/track/4QL6epCx6rlUbDG...</td>\n",
       "      <td>Halloween</td>\n",
       "      <td>Dead Kennedys</td>\n",
       "      <td>Plastic Surgery Disasters/In God We Trust, Inc.</td>\n",
       "      <td>2001</td>\n",
       "      <td>215</td>\n",
       "      <td>https://i.scdn.co/image/ab67616d00001e02af5c4f...</td>\n",
       "      <td>41</td>\n",
       "      <td>...</td>\n",
       "      <td>0</td>\n",
       "      <td>0.125</td>\n",
       "      <td>-4.993</td>\n",
       "      <td>1</td>\n",
       "      <td>0.0935</td>\n",
       "      <td>185.157</td>\n",
       "      <td>4</td>\n",
       "      <td>0.7640</td>\n",
       "      <td>3</td>\n",
       "      <td>11</td>\n",
       "    </tr>\n",
       "  </tbody>\n",
       "</table>\n",
       "<p>5 rows × 25 columns</p>\n",
       "</div>"
      ],
      "text/plain": [
       "                 track_id                                               href  \\\n",
       "0  3T7XFffEVFl76njTFOKSsL  https://api.spotify.com/v1/tracks/3T7XFffEVFl7...   \n",
       "1  5VKlSohlApanCSQ1YHA1xq  https://api.spotify.com/v1/tracks/5VKlSohlApan...   \n",
       "2  7d3iTe7NNJzt4sviLqQmgb  https://api.spotify.com/v1/tracks/7d3iTe7NNJzt...   \n",
       "3  0OsqzEdkrKIz4cMMdFtrvJ  https://api.spotify.com/v1/tracks/0OsqzEdkrKIz...   \n",
       "4  4QL6epCx6rlUbDG4TF3sj9  https://api.spotify.com/v1/tracks/4QL6epCx6rlU...   \n",
       "\n",
       "                                          track_link  \\\n",
       "0  https://open.spotify.com/track/3T7XFffEVFl76nj...   \n",
       "1  https://open.spotify.com/track/5VKlSohlApanCSQ...   \n",
       "2  https://open.spotify.com/track/7d3iTe7NNJzt4sv...   \n",
       "3  https://open.spotify.com/track/0OsqzEdkrKIz4cM...   \n",
       "4  https://open.spotify.com/track/4QL6epCx6rlUbDG...   \n",
       "\n",
       "                                          track_name                 artist  \\\n",
       "0                                      Martha Served           I Hate Sally   \n",
       "1              Zip-A-Dee-Doo-Dah (Song of the South)  101 Strings Orchestra   \n",
       "2           Misery Path - From the Privilege of Evil               Amorphis   \n",
       "3  Nuovi Re, Pt. I I (feat. Tek Money - Lady Tamb...                  Inoki   \n",
       "4                                          Halloween          Dead Kennedys   \n",
       "\n",
       "                                        album_name album_release_year  \\\n",
       "0                                 Don't Worry Lady         2007-06-12   \n",
       "1   Most Amazing Movie, Musical & TV Themes, Vol.6         2022-10-07   \n",
       "2                                 Karelian Isthmus         1992-11-01   \n",
       "3                                Nobiltà di strada         2007-02-16   \n",
       "4  Plastic Surgery Disasters/In God We Trust, Inc.               2001   \n",
       "\n",
       "   track_duration                                        album_image  \\\n",
       "0             139  https://i.scdn.co/image/ab67616d00001e0201a7d2...   \n",
       "1             200  https://i.scdn.co/image/ab67616d00001e0234180b...   \n",
       "2             255  https://i.scdn.co/image/ab67616d00001e0255f6d7...   \n",
       "3             259  https://i.scdn.co/image/ab67616d00001e022d85b5...   \n",
       "4             215  https://i.scdn.co/image/ab67616d00001e02af5c4f...   \n",
       "\n",
       "   popularity  ...  key  liveness  loudness  mode  speechiness    tempo  \\\n",
       "0           2  ...    1     0.818    -5.382     1       0.1110  103.886   \n",
       "1           1  ...   10     0.122   -16.292     1       0.0373  119.205   \n",
       "2          11  ...    9     0.415    -4.797     1       0.2370   79.823   \n",
       "3          11  ...    1     0.623    -4.925     1       0.2810   87.954   \n",
       "4          41  ...    0     0.125    -4.993     1       0.0935  185.157   \n",
       "\n",
       "   time_signature  valence  clusters_kmeans_9  clusters_kmeans_27  \n",
       "0               4   0.2020                  6                  22  \n",
       "1               4   0.2770                  7                  24  \n",
       "2               4   0.0397                  6                  22  \n",
       "3               4   0.7550                  1                  26  \n",
       "4               4   0.7640                  3                  11  \n",
       "\n",
       "[5 rows x 25 columns]"
      ]
     },
     "execution_count": 10,
     "metadata": {},
     "output_type": "execute_result"
    }
   ],
   "source": [
    "songs_and_features_kmeans_clustered_df.head()"
   ]
  },
  {
   "cell_type": "code",
   "execution_count": 13,
   "id": "2da45199-daa5-4478-b846-c1aab771fb91",
   "metadata": {},
   "outputs": [
    {
     "data": {
      "text/plain": [
       "0     348\n",
       "1    1215\n",
       "2     597\n",
       "3     517\n",
       "4     809\n",
       "5     122\n",
       "6     782\n",
       "7     400\n",
       "8     898\n",
       "Name: clusters_kmeans_9, dtype: int64"
      ]
     },
     "execution_count": 13,
     "metadata": {},
     "output_type": "execute_result"
    }
   ],
   "source": [
    "# Show number of songs in each cluster\n",
    "pd.Series(songs_and_features_kmeans_clustered_df['clusters_kmeans_9']).value_counts().sort_index()"
   ]
  },
  {
   "cell_type": "markdown",
   "id": "a7034313-2dd7-47da-9d0b-2f7bfb11097b",
   "metadata": {},
   "source": [
    "# 5 Train DBSCAN model"
   ]
  },
  {
   "cell_type": "markdown",
   "id": "f4c90420-af3b-4d0e-812f-801c0700185e",
   "metadata": {},
   "source": [
    "## Train Model"
   ]
  },
  {
   "cell_type": "code",
   "execution_count": 14,
   "id": "99235ec8-b615-4998-b38f-c54d937b892c",
   "metadata": {},
   "outputs": [
    {
     "data": {
      "text/html": [
       "<style>#sk-container-id-1 {color: black;background-color: white;}#sk-container-id-1 pre{padding: 0;}#sk-container-id-1 div.sk-toggleable {background-color: white;}#sk-container-id-1 label.sk-toggleable__label {cursor: pointer;display: block;width: 100%;margin-bottom: 0;padding: 0.3em;box-sizing: border-box;text-align: center;}#sk-container-id-1 label.sk-toggleable__label-arrow:before {content: \"▸\";float: left;margin-right: 0.25em;color: #696969;}#sk-container-id-1 label.sk-toggleable__label-arrow:hover:before {color: black;}#sk-container-id-1 div.sk-estimator:hover label.sk-toggleable__label-arrow:before {color: black;}#sk-container-id-1 div.sk-toggleable__content {max-height: 0;max-width: 0;overflow: hidden;text-align: left;background-color: #f0f8ff;}#sk-container-id-1 div.sk-toggleable__content pre {margin: 0.2em;color: black;border-radius: 0.25em;background-color: #f0f8ff;}#sk-container-id-1 input.sk-toggleable__control:checked~div.sk-toggleable__content {max-height: 200px;max-width: 100%;overflow: auto;}#sk-container-id-1 input.sk-toggleable__control:checked~label.sk-toggleable__label-arrow:before {content: \"▾\";}#sk-container-id-1 div.sk-estimator input.sk-toggleable__control:checked~label.sk-toggleable__label {background-color: #d4ebff;}#sk-container-id-1 div.sk-label input.sk-toggleable__control:checked~label.sk-toggleable__label {background-color: #d4ebff;}#sk-container-id-1 input.sk-hidden--visually {border: 0;clip: rect(1px 1px 1px 1px);clip: rect(1px, 1px, 1px, 1px);height: 1px;margin: -1px;overflow: hidden;padding: 0;position: absolute;width: 1px;}#sk-container-id-1 div.sk-estimator {font-family: monospace;background-color: #f0f8ff;border: 1px dotted black;border-radius: 0.25em;box-sizing: border-box;margin-bottom: 0.5em;}#sk-container-id-1 div.sk-estimator:hover {background-color: #d4ebff;}#sk-container-id-1 div.sk-parallel-item::after {content: \"\";width: 100%;border-bottom: 1px solid gray;flex-grow: 1;}#sk-container-id-1 div.sk-label:hover label.sk-toggleable__label {background-color: #d4ebff;}#sk-container-id-1 div.sk-serial::before {content: \"\";position: absolute;border-left: 1px solid gray;box-sizing: border-box;top: 0;bottom: 0;left: 50%;z-index: 0;}#sk-container-id-1 div.sk-serial {display: flex;flex-direction: column;align-items: center;background-color: white;padding-right: 0.2em;padding-left: 0.2em;position: relative;}#sk-container-id-1 div.sk-item {position: relative;z-index: 1;}#sk-container-id-1 div.sk-parallel {display: flex;align-items: stretch;justify-content: center;background-color: white;position: relative;}#sk-container-id-1 div.sk-item::before, #sk-container-id-1 div.sk-parallel-item::before {content: \"\";position: absolute;border-left: 1px solid gray;box-sizing: border-box;top: 0;bottom: 0;left: 50%;z-index: -1;}#sk-container-id-1 div.sk-parallel-item {display: flex;flex-direction: column;z-index: 1;position: relative;background-color: white;}#sk-container-id-1 div.sk-parallel-item:first-child::after {align-self: flex-end;width: 50%;}#sk-container-id-1 div.sk-parallel-item:last-child::after {align-self: flex-start;width: 50%;}#sk-container-id-1 div.sk-parallel-item:only-child::after {width: 0;}#sk-container-id-1 div.sk-dashed-wrapped {border: 1px dashed gray;margin: 0 0.4em 0.5em 0.4em;box-sizing: border-box;padding-bottom: 0.4em;background-color: white;}#sk-container-id-1 div.sk-label label {font-family: monospace;font-weight: bold;display: inline-block;line-height: 1.2em;}#sk-container-id-1 div.sk-label-container {text-align: center;}#sk-container-id-1 div.sk-container {/* jupyter's `normalize.less` sets `[hidden] { display: none; }` but bootstrap.min.css set `[hidden] { display: none !important; }` so we also need the `!important` here to be able to override the default hidden behavior on the sphinx rendered scikit-learn.org. See: https://github.com/scikit-learn/scikit-learn/issues/21755 */display: inline-block !important;position: relative;}#sk-container-id-1 div.sk-text-repr-fallback {display: none;}</style><div id=\"sk-container-id-1\" class=\"sk-top-container\"><div class=\"sk-text-repr-fallback\"><pre>DBSCAN()</pre><b>In a Jupyter environment, please rerun this cell to show the HTML representation or trust the notebook. <br />On GitHub, the HTML representation is unable to render, please try loading this page with nbviewer.org.</b></div><div class=\"sk-container\" hidden><div class=\"sk-item\"><div class=\"sk-estimator sk-toggleable\"><input class=\"sk-toggleable__control sk-hidden--visually\" id=\"sk-estimator-id-1\" type=\"checkbox\" checked><label for=\"sk-estimator-id-1\" class=\"sk-toggleable__label sk-toggleable__label-arrow\">DBSCAN</label><div class=\"sk-toggleable__content\"><pre>DBSCAN()</pre></div></div></div></div></div>"
      ],
      "text/plain": [
       "DBSCAN()"
      ]
     },
     "execution_count": 14,
     "metadata": {},
     "output_type": "execute_result"
    }
   ],
   "source": [
    "# Define model & settings\n",
    "dbscan = DBSCAN() # eps=0.30, min_samples=9: Default values are: eps=0.5, min_samples=5\n",
    "\n",
    "# Train model\n",
    "dbscan.fit(X_scaled_df)"
   ]
  },
  {
   "cell_type": "code",
   "execution_count": 15,
   "id": "40e603e1-9825-4f2e-b1fa-dc379557b49c",
   "metadata": {},
   "outputs": [],
   "source": [
    "# Predict clusters\n",
    "yhat = dbscan.fit_predict(X_scaled_df)"
   ]
  },
  {
   "cell_type": "code",
   "execution_count": 16,
   "id": "f5fbcb3c-1c7b-49af-994e-59f8115eb710",
   "metadata": {},
   "outputs": [
    {
     "name": "stdout",
     "output_type": "stream",
     "text": [
      "The Silhouette score of the model is:  -0.41\n"
     ]
    }
   ],
   "source": [
    "print(\"The Silhouette score of the model is: \",round(silhouette_score(X_scaled_df, yhat),2))"
   ]
  },
  {
   "cell_type": "code",
   "execution_count": 17,
   "id": "413d93b8-8335-461c-ac74-d28888269a67",
   "metadata": {},
   "outputs": [
    {
     "data": {
      "text/plain": [
       "array([-1, -1, -1, ..., -1, -1,  0])"
      ]
     },
     "execution_count": 17,
     "metadata": {},
     "output_type": "execute_result"
    }
   ],
   "source": [
    "yhat"
   ]
  },
  {
   "cell_type": "code",
   "execution_count": 18,
   "id": "1c0efd16-1f7b-498b-9e40-c8eb92f7ceb2",
   "metadata": {},
   "outputs": [
    {
     "data": {
      "text/html": [
       "<div>\n",
       "<style scoped>\n",
       "    .dataframe tbody tr th:only-of-type {\n",
       "        vertical-align: middle;\n",
       "    }\n",
       "\n",
       "    .dataframe tbody tr th {\n",
       "        vertical-align: top;\n",
       "    }\n",
       "\n",
       "    .dataframe thead th {\n",
       "        text-align: right;\n",
       "    }\n",
       "</style>\n",
       "<table border=\"1\" class=\"dataframe\">\n",
       "  <thead>\n",
       "    <tr style=\"text-align: right;\">\n",
       "      <th></th>\n",
       "      <th>energy</th>\n",
       "      <th>danceability</th>\n",
       "      <th>mode</th>\n",
       "      <th>speechiness</th>\n",
       "      <th>tempo</th>\n",
       "      <th>acousticness</th>\n",
       "      <th>instrumentalness</th>\n",
       "      <th>valence</th>\n",
       "      <th>cluster</th>\n",
       "    </tr>\n",
       "  </thead>\n",
       "  <tbody>\n",
       "    <tr>\n",
       "      <th>0</th>\n",
       "      <td>1.492810</td>\n",
       "      <td>-1.925090</td>\n",
       "      <td>0.666349</td>\n",
       "      <td>0.159148</td>\n",
       "      <td>-0.537967</td>\n",
       "      <td>-0.981507</td>\n",
       "      <td>1.566842</td>\n",
       "      <td>-1.210325</td>\n",
       "      <td>-1</td>\n",
       "    </tr>\n",
       "    <tr>\n",
       "      <th>1</th>\n",
       "      <td>-1.545274</td>\n",
       "      <td>-1.434132</td>\n",
       "      <td>0.666349</td>\n",
       "      <td>-0.440670</td>\n",
       "      <td>-0.036779</td>\n",
       "      <td>1.709193</td>\n",
       "      <td>1.143673</td>\n",
       "      <td>-0.928196</td>\n",
       "      <td>-1</td>\n",
       "    </tr>\n",
       "    <tr>\n",
       "      <th>2</th>\n",
       "      <td>1.477466</td>\n",
       "      <td>-2.170569</td>\n",
       "      <td>0.666349</td>\n",
       "      <td>1.184617</td>\n",
       "      <td>-1.325230</td>\n",
       "      <td>-0.828199</td>\n",
       "      <td>2.400642</td>\n",
       "      <td>-1.820853</td>\n",
       "      <td>-1</td>\n",
       "    </tr>\n",
       "    <tr>\n",
       "      <th>3</th>\n",
       "      <td>0.775485</td>\n",
       "      <td>0.938834</td>\n",
       "      <td>0.666349</td>\n",
       "      <td>1.542717</td>\n",
       "      <td>-1.059210</td>\n",
       "      <td>-0.822077</td>\n",
       "      <td>-0.567812</td>\n",
       "      <td>0.869907</td>\n",
       "      <td>-1</td>\n",
       "    </tr>\n",
       "    <tr>\n",
       "      <th>4</th>\n",
       "      <td>1.404583</td>\n",
       "      <td>-1.685066</td>\n",
       "      <td>0.666349</td>\n",
       "      <td>0.016721</td>\n",
       "      <td>2.120955</td>\n",
       "      <td>-0.978186</td>\n",
       "      <td>-0.567806</td>\n",
       "      <td>0.903762</td>\n",
       "      <td>-1</td>\n",
       "    </tr>\n",
       "  </tbody>\n",
       "</table>\n",
       "</div>"
      ],
      "text/plain": [
       "     energy  danceability      mode  speechiness     tempo  acousticness  \\\n",
       "0  1.492810     -1.925090  0.666349     0.159148 -0.537967     -0.981507   \n",
       "1 -1.545274     -1.434132  0.666349    -0.440670 -0.036779      1.709193   \n",
       "2  1.477466     -2.170569  0.666349     1.184617 -1.325230     -0.828199   \n",
       "3  0.775485      0.938834  0.666349     1.542717 -1.059210     -0.822077   \n",
       "4  1.404583     -1.685066  0.666349     0.016721  2.120955     -0.978186   \n",
       "\n",
       "   instrumentalness   valence  cluster  \n",
       "0          1.566842 -1.210325       -1  \n",
       "1          1.143673 -0.928196       -1  \n",
       "2          2.400642 -1.820853       -1  \n",
       "3         -0.567812  0.869907       -1  \n",
       "4         -0.567806  0.903762       -1  "
      ]
     },
     "execution_count": 18,
     "metadata": {},
     "output_type": "execute_result"
    }
   ],
   "source": [
    "X_scaled_dbscan_clustered_df = X_scaled_df.copy()\n",
    "\n",
    "X_scaled_dbscan_clustered_df['cluster'] = yhat\n",
    "X_scaled_dbscan_clustered_df.head()"
   ]
  },
  {
   "cell_type": "code",
   "execution_count": 19,
   "id": "77c2ebb8-f1ac-48ca-ae16-c71f2c760cae",
   "metadata": {},
   "outputs": [
    {
     "data": {
      "text/plain": [
       "array([-1,  0,  1,  2,  3,  4,  5,  6,  7,  8,  9, 10, 11, 12, 13, 14, 15,\n",
       "       16, 17, 18, 19, 20, 21, 22, 23, 24, 25, 26, 27, 28, 29, 30, 31, 32,\n",
       "       33, 34, 35, 36, 37, 38, 39, 40, 41, 42])"
      ]
     },
     "execution_count": 19,
     "metadata": {},
     "output_type": "execute_result"
    }
   ],
   "source": [
    "# retrieve unique clusters\n",
    "clusters = np.unique(yhat)\n",
    "clusters # DBSCAN flags with \"-1\" noisy data."
   ]
  },
  {
   "cell_type": "code",
   "execution_count": 20,
   "id": "63b3762e-4a71-4ce2-bb3a-145aa2988503",
   "metadata": {},
   "outputs": [
    {
     "data": {
      "text/plain": [
       "44"
      ]
     },
     "execution_count": 20,
     "metadata": {},
     "output_type": "execute_result"
    }
   ],
   "source": [
    "len(list(clusters))"
   ]
  },
  {
   "cell_type": "markdown",
   "id": "39403480-51e8-4a66-95ec-059d5ed4633a",
   "metadata": {},
   "source": [
    "## Fine Tuning\n",
    "In order to find out the best value for **$\\epsilon$**, we follow these steps:\n",
    "\n",
    "1. Compute the distance matrix between the all the observations\n",
    "2. We fix the number of nearest neighbours **k** to MinPoints= 2*number_of_features\n",
    "3. We get all the distances from each point to it's k-nearest-neighbourgh.\n",
    "4. We sort all those distances in descending order.\n",
    "5. We plot those distances."
   ]
  },
  {
   "cell_type": "markdown",
   "id": "df9f1ea2-fc75-469d-bf0b-1a3271a716c8",
   "metadata": {
    "tags": []
   },
   "source": [
    "### Step 1"
   ]
  },
  {
   "cell_type": "code",
   "execution_count": 21,
   "id": "1e7a1fc3-f934-4672-a20c-79288fa742fa",
   "metadata": {},
   "outputs": [
    {
     "name": "stdout",
     "output_type": "stream",
     "text": [
      "[[0.         4.19291111 1.68027844 ... 5.11585019 4.23897132 4.58040982]\n",
      " [4.19291111 0.         4.77452902 ... 5.35138859 4.19658346 5.02785542]\n",
      " [1.68027844 4.77452902 0.         ... 5.78225207 5.41828248 5.84572329]\n",
      " ...\n",
      " [5.11585019 5.35138859 5.78225207 ... 0.         3.29329833 3.94999611]\n",
      " [4.23897132 4.19658346 5.41828248 ... 3.29329833 0.         3.18098242]\n",
      " [4.58040982 5.02785542 5.84572329 ... 3.94999611 3.18098242 0.        ]]\n"
     ]
    }
   ],
   "source": [
    "# Compute the distance matrix between the all the observations\n",
    "d = distance_matrix(X_scaled_df,X_scaled_df)\n",
    "print(d)"
   ]
  },
  {
   "cell_type": "markdown",
   "id": "1904f1a3-863f-4cae-97d8-c741b42349cd",
   "metadata": {},
   "source": [
    "### Step 2"
   ]
  },
  {
   "cell_type": "code",
   "execution_count": 22,
   "id": "0ee938f5-1b11-43d4-aa45-ffe033e98cdc",
   "metadata": {},
   "outputs": [
    {
     "name": "stdout",
     "output_type": "stream",
     "text": [
      "[[0.3708223  0.61675911 0.6968084  ... 8.95726046 8.98684248 9.54512445]\n",
      " [0.75453667 0.78395706 0.8550074  ... 8.64018071 8.65550445 8.72377569]\n",
      " [0.61257609 0.72667176 1.34349457 ... 8.63929104 8.9370062  9.29179056]\n",
      " ...\n",
      " [0.69928671 0.86725129 0.98037768 ... 8.4398067  8.55673188 9.15147008]\n",
      " [0.57387002 0.88952998 1.00057103 ... 8.74689997 8.81648911 8.85582778]\n",
      " [0.28373595 0.31827238 0.32421702 ... 8.67480013 8.68060962 9.12820268]]\n"
     ]
    }
   ],
   "source": [
    "# We need to sort this matrix by row and to ignore the first element as it is the distance to every point to itself (ie. 0)\n",
    "d2 = np.sort(d)[:,1:]\n",
    "print(d2)"
   ]
  },
  {
   "cell_type": "markdown",
   "id": "f9b428ec-12e9-47c9-b1e8-de4ce612a8ce",
   "metadata": {},
   "source": [
    "### Step 3"
   ]
  },
  {
   "cell_type": "code",
   "execution_count": 23,
   "id": "d27479bf-6536-4416-b3ad-466b8ce1e7bb",
   "metadata": {},
   "outputs": [
    {
     "name": "stdout",
     "output_type": "stream",
     "text": [
      "Min points: 16\n"
     ]
    }
   ],
   "source": [
    "# k neighbours = minPoints = 2 * number of features\n",
    "min_points = 2 * len(selected_features)\n",
    "print('Min points:', min_points)\n",
    "\n",
    "#\n",
    "f = d2[:,min_points-1]\n",
    "#print(f) # The distances between every point and it's min_point-1 nearest neighbour."
   ]
  },
  {
   "cell_type": "markdown",
   "id": "6d5f745c-eec3-4a78-8d20-34ced32986a3",
   "metadata": {
    "tags": []
   },
   "source": [
    "### Step 4"
   ]
  },
  {
   "cell_type": "code",
   "execution_count": 24,
   "id": "825df888-9ca1-4432-8b51-c6ed7c98814f",
   "metadata": {},
   "outputs": [],
   "source": [
    "# We sort the 15-th distances in descending order.\n",
    "f_final = np.sort(f)[::-1]\n",
    "\n",
    "#print(f_final)"
   ]
  },
  {
   "cell_type": "markdown",
   "id": "27a6e0da-5b8f-47f4-894f-c0c2ee613236",
   "metadata": {},
   "source": [
    "### Step 5"
   ]
  },
  {
   "cell_type": "code",
   "execution_count": 25,
   "id": "2a048897-f61c-49b9-8187-2b8eeef2fbde",
   "metadata": {},
   "outputs": [
    {
     "data": {
      "image/png": "[encoded data removed]",
      "text/plain": [
       "<Figure size 640x480 with 1 Axes>"
      ]
     },
     "metadata": {},
     "output_type": "display_data"
    }
   ],
   "source": [
    "# We plot those distances and let's cross our fingers in search for a clear elbow.\n",
    "\n",
    "plt.scatter(range(1,len(f_final)+1), f_final)\n",
    "plt.xlabel(\"Index\")\n",
    "plt.ylabel(\"Distance\")\n",
    "\n",
    "# Get the index of the distance which is closer to 0.5 as 0.5 is the default value for epsilon in DBSCAN\n",
    "min_index = np.argmin(np.abs(f_final - 0.5))\n",
    "xnew = min_index\n",
    "ynew = f_final[min_index]\n",
    "plt.axvline(xnew, color='red', linewidth=0.5)\n",
    "plt.axhline(ynew, color='red', linewidth=0.5)\n",
    "plt.grid()\n",
    "plt.show()\n"
   ]
  },
  {
   "cell_type": "markdown",
   "id": "b3cadf2c-d97f-4f64-9214-88553e46e858",
   "metadata": {},
   "source": [
    "### Exploring Epsilon Values"
   ]
  },
  {
   "cell_type": "code",
   "execution_count": 26,
   "id": "ff404cac-9779-4163-ab5b-5d61fe440b0e",
   "metadata": {},
   "outputs": [
    {
     "name": "stdout",
     "output_type": "stream",
     "text": [
      "Number of clusters: 3\n",
      "Number of clusters: 3\n",
      "Number of clusters: 4\n",
      "Number of clusters: 4\n",
      "Number of clusters: 3\n",
      "Number of clusters: 3\n",
      "Number of clusters: 2\n",
      "Number of clusters: 2\n",
      "Number of clusters: 2\n",
      "Number of clusters: 3\n",
      "Number of clusters: 3\n",
      "Number of clusters: 3\n",
      "Number of clusters: 3\n",
      "Number of clusters: 3\n",
      "Number of clusters: 3\n",
      "Number of clusters: 3\n"
     ]
    }
   ],
   "source": [
    "models = {}\n",
    "min_distance = 1.2\n",
    "max_distance = 2\n",
    "interval = 0.05\n",
    "\n",
    "for value in np.arange(min_distance, max_distance, interval):\n",
    "    model = DBSCAN(eps=value, min_samples=2*len(selected_features)) # min_samples = 2 * number of features\n",
    "\n",
    "    # fit model and predict clusters\n",
    "    yhat = model.fit_predict(X_scaled_df)\n",
    "    \n",
    "    number_of_clusters = len([value for value in np.unique(yhat) if value != -1])\n",
    "    print('Number of clusters:', number_of_clusters)\n",
    "    \n",
    "    score = round(silhouette_score(X_scaled_df, model.fit_predict(X_scaled_df)),2)\n",
    "    models[\"model_\"+str(round(value,2))] = {\"model\":model,\"yhat\": yhat, \"score\": score, \"clusters\": number_of_clusters}"
   ]
  },
  {
   "cell_type": "markdown",
   "id": "c72eb922-56c5-40d7-b09d-1d98b66ddbb6",
   "metadata": {},
   "source": [
    "+ The models found have very few clusters. The KMeans models offer better predictions and therefore those will be used in the project."
   ]
  },
  {
   "cell_type": "code",
   "execution_count": 27,
   "id": "99375cf4-faf4-4223-9f33-fe0ab5f670ed",
   "metadata": {},
   "outputs": [
    {
     "data": {
      "text/plain": [
       "array([-1,  0,  1,  2])"
      ]
     },
     "execution_count": 27,
     "metadata": {},
     "output_type": "execute_result"
    }
   ],
   "source": [
    "np.unique(models['model_1.2']['yhat'])"
   ]
  },
  {
   "cell_type": "code",
   "execution_count": 28,
   "id": "10d82e33-54a3-453e-b0f7-0a3c2fd3ed07",
   "metadata": {},
   "outputs": [
    {
     "data": {
      "image/png": "[encoded data removed]",
      "text/plain": [
       "<Figure size 1200x700 with 1 Axes>"
      ]
     },
     "metadata": {},
     "output_type": "display_data"
    }
   ],
   "source": [
    "import matplotlib.ticker as ticker\n",
    "\n",
    "epsilons = [round(value,2) for value in np.arange(min_distance, max_distance, interval)]\n",
    "scores = [item[1][\"score\"] for item in list(models.items())]\n",
    "\n",
    "fig, ax = plt.subplots(figsize=(12,7))\n",
    "ax.plot(epsilons, scores)\n",
    "ax.set_xlabel(\"Epsilon\")\n",
    "ax.set_ylabel(\"Silhouette score\")\n",
    "ax.xaxis.set_ticks(np.arange(min(epsilons), max(epsilons), 0.05))\n",
    "ax.xaxis.set_major_formatter(ticker.FormatStrFormatter('%0.2f'))\n",
    "ax.yaxis.set_ticks(np.arange(min(scores), max(scores)+0.1, 0.02))\n",
    "ax.yaxis.set_major_formatter(ticker.FormatStrFormatter('%0.2f'))\n",
    "plt.grid()\n",
    "plt.tight_layout()\n",
    "plt.show()"
   ]
  },
  {
   "cell_type": "code",
   "execution_count": null,
   "id": "c4b8708b-d1a0-4ad9-8e59-c743a2542488",
   "metadata": {},
   "outputs": [],
   "source": []
  },
  {
   "cell_type": "code",
   "execution_count": null,
   "id": "4b0a3ae0-11b4-4ab9-8d6c-2c4d71d20f44",
   "metadata": {},
   "outputs": [],
   "source": []
  }
 ],
 "metadata": {
  "kernelspec": {
   "display_name": "Python 3 (ipykernel)",
   "language": "python",
   "name": "python3"
  },
  "language_info": {
   "codemirror_mode": {
    "name": "ipython",
    "version": 3
   },
   "file_extension": ".py",
   "mimetype": "text/x-python",
   "name": "python",
   "nbconvert_exporter": "python",
   "pygments_lexer": "ipython3",
   "version": "3.10.12"
  }
 },
 "nbformat": 4,
 "nbformat_minor": 5
}
